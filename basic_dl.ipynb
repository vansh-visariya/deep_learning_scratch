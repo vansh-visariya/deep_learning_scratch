{
 "cells": [
  {
   "cell_type": "code",
   "execution_count": 1,
   "id": "e2283f80",
   "metadata": {},
   "outputs": [
    {
     "data": {
      "text/html": [
       "<div>\n",
       "<style scoped>\n",
       "    .dataframe tbody tr th:only-of-type {\n",
       "        vertical-align: middle;\n",
       "    }\n",
       "\n",
       "    .dataframe tbody tr th {\n",
       "        vertical-align: top;\n",
       "    }\n",
       "\n",
       "    .dataframe thead th {\n",
       "        text-align: right;\n",
       "    }\n",
       "</style>\n",
       "<table border=\"1\" class=\"dataframe\">\n",
       "  <thead>\n",
       "    <tr style=\"text-align: right;\">\n",
       "      <th></th>\n",
       "      <th>id</th>\n",
       "      <th>diagnosis</th>\n",
       "      <th>radius_mean</th>\n",
       "      <th>texture_mean</th>\n",
       "      <th>perimeter_mean</th>\n",
       "      <th>area_mean</th>\n",
       "      <th>smoothness_mean</th>\n",
       "      <th>compactness_mean</th>\n",
       "      <th>concavity_mean</th>\n",
       "      <th>concave points_mean</th>\n",
       "      <th>...</th>\n",
       "      <th>texture_worst</th>\n",
       "      <th>perimeter_worst</th>\n",
       "      <th>area_worst</th>\n",
       "      <th>smoothness_worst</th>\n",
       "      <th>compactness_worst</th>\n",
       "      <th>concavity_worst</th>\n",
       "      <th>concave points_worst</th>\n",
       "      <th>symmetry_worst</th>\n",
       "      <th>fractal_dimension_worst</th>\n",
       "      <th>Unnamed: 32</th>\n",
       "    </tr>\n",
       "  </thead>\n",
       "  <tbody>\n",
       "    <tr>\n",
       "      <th>0</th>\n",
       "      <td>842302</td>\n",
       "      <td>M</td>\n",
       "      <td>17.99</td>\n",
       "      <td>10.38</td>\n",
       "      <td>122.80</td>\n",
       "      <td>1001.0</td>\n",
       "      <td>0.11840</td>\n",
       "      <td>0.27760</td>\n",
       "      <td>0.3001</td>\n",
       "      <td>0.14710</td>\n",
       "      <td>...</td>\n",
       "      <td>17.33</td>\n",
       "      <td>184.60</td>\n",
       "      <td>2019.0</td>\n",
       "      <td>0.1622</td>\n",
       "      <td>0.6656</td>\n",
       "      <td>0.7119</td>\n",
       "      <td>0.2654</td>\n",
       "      <td>0.4601</td>\n",
       "      <td>0.11890</td>\n",
       "      <td>NaN</td>\n",
       "    </tr>\n",
       "    <tr>\n",
       "      <th>1</th>\n",
       "      <td>842517</td>\n",
       "      <td>M</td>\n",
       "      <td>20.57</td>\n",
       "      <td>17.77</td>\n",
       "      <td>132.90</td>\n",
       "      <td>1326.0</td>\n",
       "      <td>0.08474</td>\n",
       "      <td>0.07864</td>\n",
       "      <td>0.0869</td>\n",
       "      <td>0.07017</td>\n",
       "      <td>...</td>\n",
       "      <td>23.41</td>\n",
       "      <td>158.80</td>\n",
       "      <td>1956.0</td>\n",
       "      <td>0.1238</td>\n",
       "      <td>0.1866</td>\n",
       "      <td>0.2416</td>\n",
       "      <td>0.1860</td>\n",
       "      <td>0.2750</td>\n",
       "      <td>0.08902</td>\n",
       "      <td>NaN</td>\n",
       "    </tr>\n",
       "    <tr>\n",
       "      <th>2</th>\n",
       "      <td>84300903</td>\n",
       "      <td>M</td>\n",
       "      <td>19.69</td>\n",
       "      <td>21.25</td>\n",
       "      <td>130.00</td>\n",
       "      <td>1203.0</td>\n",
       "      <td>0.10960</td>\n",
       "      <td>0.15990</td>\n",
       "      <td>0.1974</td>\n",
       "      <td>0.12790</td>\n",
       "      <td>...</td>\n",
       "      <td>25.53</td>\n",
       "      <td>152.50</td>\n",
       "      <td>1709.0</td>\n",
       "      <td>0.1444</td>\n",
       "      <td>0.4245</td>\n",
       "      <td>0.4504</td>\n",
       "      <td>0.2430</td>\n",
       "      <td>0.3613</td>\n",
       "      <td>0.08758</td>\n",
       "      <td>NaN</td>\n",
       "    </tr>\n",
       "    <tr>\n",
       "      <th>3</th>\n",
       "      <td>84348301</td>\n",
       "      <td>M</td>\n",
       "      <td>11.42</td>\n",
       "      <td>20.38</td>\n",
       "      <td>77.58</td>\n",
       "      <td>386.1</td>\n",
       "      <td>0.14250</td>\n",
       "      <td>0.28390</td>\n",
       "      <td>0.2414</td>\n",
       "      <td>0.10520</td>\n",
       "      <td>...</td>\n",
       "      <td>26.50</td>\n",
       "      <td>98.87</td>\n",
       "      <td>567.7</td>\n",
       "      <td>0.2098</td>\n",
       "      <td>0.8663</td>\n",
       "      <td>0.6869</td>\n",
       "      <td>0.2575</td>\n",
       "      <td>0.6638</td>\n",
       "      <td>0.17300</td>\n",
       "      <td>NaN</td>\n",
       "    </tr>\n",
       "    <tr>\n",
       "      <th>4</th>\n",
       "      <td>84358402</td>\n",
       "      <td>M</td>\n",
       "      <td>20.29</td>\n",
       "      <td>14.34</td>\n",
       "      <td>135.10</td>\n",
       "      <td>1297.0</td>\n",
       "      <td>0.10030</td>\n",
       "      <td>0.13280</td>\n",
       "      <td>0.1980</td>\n",
       "      <td>0.10430</td>\n",
       "      <td>...</td>\n",
       "      <td>16.67</td>\n",
       "      <td>152.20</td>\n",
       "      <td>1575.0</td>\n",
       "      <td>0.1374</td>\n",
       "      <td>0.2050</td>\n",
       "      <td>0.4000</td>\n",
       "      <td>0.1625</td>\n",
       "      <td>0.2364</td>\n",
       "      <td>0.07678</td>\n",
       "      <td>NaN</td>\n",
       "    </tr>\n",
       "  </tbody>\n",
       "</table>\n",
       "<p>5 rows × 33 columns</p>\n",
       "</div>"
      ],
      "text/plain": [
       "         id diagnosis  radius_mean  texture_mean  perimeter_mean  area_mean  \\\n",
       "0    842302         M        17.99         10.38          122.80     1001.0   \n",
       "1    842517         M        20.57         17.77          132.90     1326.0   \n",
       "2  84300903         M        19.69         21.25          130.00     1203.0   \n",
       "3  84348301         M        11.42         20.38           77.58      386.1   \n",
       "4  84358402         M        20.29         14.34          135.10     1297.0   \n",
       "\n",
       "   smoothness_mean  compactness_mean  concavity_mean  concave points_mean  \\\n",
       "0          0.11840           0.27760          0.3001              0.14710   \n",
       "1          0.08474           0.07864          0.0869              0.07017   \n",
       "2          0.10960           0.15990          0.1974              0.12790   \n",
       "3          0.14250           0.28390          0.2414              0.10520   \n",
       "4          0.10030           0.13280          0.1980              0.10430   \n",
       "\n",
       "   ...  texture_worst  perimeter_worst  area_worst  smoothness_worst  \\\n",
       "0  ...          17.33           184.60      2019.0            0.1622   \n",
       "1  ...          23.41           158.80      1956.0            0.1238   \n",
       "2  ...          25.53           152.50      1709.0            0.1444   \n",
       "3  ...          26.50            98.87       567.7            0.2098   \n",
       "4  ...          16.67           152.20      1575.0            0.1374   \n",
       "\n",
       "   compactness_worst  concavity_worst  concave points_worst  symmetry_worst  \\\n",
       "0             0.6656           0.7119                0.2654          0.4601   \n",
       "1             0.1866           0.2416                0.1860          0.2750   \n",
       "2             0.4245           0.4504                0.2430          0.3613   \n",
       "3             0.8663           0.6869                0.2575          0.6638   \n",
       "4             0.2050           0.4000                0.1625          0.2364   \n",
       "\n",
       "   fractal_dimension_worst  Unnamed: 32  \n",
       "0                  0.11890          NaN  \n",
       "1                  0.08902          NaN  \n",
       "2                  0.08758          NaN  \n",
       "3                  0.17300          NaN  \n",
       "4                  0.07678          NaN  \n",
       "\n",
       "[5 rows x 33 columns]"
      ]
     },
     "execution_count": 1,
     "metadata": {},
     "output_type": "execute_result"
    }
   ],
   "source": [
    "import pandas as pd\n",
    "import numpy as np\n",
    "import torch\n",
    "from sklearn.model_selection import train_test_split\n",
    "from sklearn.preprocessing import StandardScaler, LabelEncoder\n",
    "\n",
    "\n",
    "data = pd.read_csv('https://raw.githubusercontent.com/gscdit/Breast-Cancer-Detection/refs/heads/master/data.csv')\n",
    "data.head()"
   ]
  },
  {
   "cell_type": "code",
   "execution_count": 2,
   "id": "158d443c",
   "metadata": {},
   "outputs": [
    {
     "data": {
      "text/plain": [
       "(569, 33)"
      ]
     },
     "execution_count": 2,
     "metadata": {},
     "output_type": "execute_result"
    }
   ],
   "source": [
    "data.shape"
   ]
  },
  {
   "cell_type": "code",
   "execution_count": 3,
   "id": "050778bc",
   "metadata": {},
   "outputs": [
    {
     "data": {
      "text/plain": [
       "id                           0\n",
       "diagnosis                    0\n",
       "radius_mean                  0\n",
       "texture_mean                 0\n",
       "perimeter_mean               0\n",
       "area_mean                    0\n",
       "smoothness_mean              0\n",
       "compactness_mean             0\n",
       "concavity_mean               0\n",
       "concave points_mean          0\n",
       "symmetry_mean                0\n",
       "fractal_dimension_mean       0\n",
       "radius_se                    0\n",
       "texture_se                   0\n",
       "perimeter_se                 0\n",
       "area_se                      0\n",
       "smoothness_se                0\n",
       "compactness_se               0\n",
       "concavity_se                 0\n",
       "concave points_se            0\n",
       "symmetry_se                  0\n",
       "fractal_dimension_se         0\n",
       "radius_worst                 0\n",
       "texture_worst                0\n",
       "perimeter_worst              0\n",
       "area_worst                   0\n",
       "smoothness_worst             0\n",
       "compactness_worst            0\n",
       "concavity_worst              0\n",
       "concave points_worst         0\n",
       "symmetry_worst               0\n",
       "fractal_dimension_worst      0\n",
       "Unnamed: 32                569\n",
       "dtype: int64"
      ]
     },
     "execution_count": 3,
     "metadata": {},
     "output_type": "execute_result"
    }
   ],
   "source": [
    "data.isnull().sum()"
   ]
  },
  {
   "cell_type": "code",
   "execution_count": 4,
   "id": "a2e6c060",
   "metadata": {},
   "outputs": [],
   "source": [
    "remove_columns = ['Unnamed: 32', 'id']\n",
    "data.drop(columns=remove_columns, inplace=True) "
   ]
  },
  {
   "cell_type": "markdown",
   "id": "c9e25f97",
   "metadata": {},
   "source": [
    "## train test split"
   ]
  },
  {
   "cell_type": "code",
   "execution_count": 5,
   "id": "139860bc",
   "metadata": {},
   "outputs": [],
   "source": [
    "x = data.drop(columns='diagnosis')\n",
    "y = data['diagnosis']"
   ]
  },
  {
   "cell_type": "code",
   "execution_count": 6,
   "id": "441d7efb",
   "metadata": {},
   "outputs": [],
   "source": [
    "x_train, x_test, y_train, y_test = train_test_split(x, y, test_size=0.2, random_state=42)"
   ]
  },
  {
   "cell_type": "markdown",
   "id": "86f8b408",
   "metadata": {},
   "source": [
    "## scaling "
   ]
  },
  {
   "cell_type": "code",
   "execution_count": 7,
   "id": "903b8f9b",
   "metadata": {},
   "outputs": [],
   "source": [
    "scaler = StandardScaler()\n",
    "x_train = scaler.fit_transform(x_train)\n",
    "x_test = scaler.transform(x_test)"
   ]
  },
  {
   "cell_type": "markdown",
   "id": "484119aa",
   "metadata": {},
   "source": [
    "## label encoding"
   ]
  },
  {
   "cell_type": "code",
   "execution_count": 8,
   "id": "777ef6e2",
   "metadata": {},
   "outputs": [
    {
     "data": {
      "text/plain": [
       "array(['M', 'B'], dtype=object)"
      ]
     },
     "execution_count": 8,
     "metadata": {},
     "output_type": "execute_result"
    }
   ],
   "source": [
    "y.unique()"
   ]
  },
  {
   "cell_type": "code",
   "execution_count": 9,
   "id": "c609c682",
   "metadata": {},
   "outputs": [],
   "source": [
    "label_encoder = LabelEncoder()\n",
    "y_train = label_encoder.fit_transform(y_train)\n",
    "y_test = label_encoder.transform(y_test)"
   ]
  },
  {
   "cell_type": "code",
   "execution_count": 10,
   "id": "9d3ad984",
   "metadata": {},
   "outputs": [
    {
     "data": {
      "text/plain": [
       "array([0, 1, 1, 0, 0, 1, 1, 1, 0, 0, 0, 1, 0, 1, 0, 1, 0, 0, 0, 1, 1, 0,\n",
       "       1, 0, 0, 0, 0, 0, 0, 1, 0, 0, 0, 0, 0, 0, 1, 0, 1, 0, 0, 1, 0, 0,\n",
       "       0, 0, 0, 0, 0, 0, 1, 1, 0, 0, 0, 0, 0, 1, 1, 0, 0, 1, 1, 0, 0, 0,\n",
       "       1, 1, 0, 0, 1, 1, 0, 1, 0, 0, 0, 1, 0, 0, 1, 0, 1, 1, 1, 1, 1, 1,\n",
       "       0, 0, 0, 0, 0, 0, 0, 0, 1, 1, 0, 1, 1, 0, 1, 1, 0, 0, 0, 1, 0, 0,\n",
       "       1, 0, 0, 1])"
      ]
     },
     "execution_count": 10,
     "metadata": {},
     "output_type": "execute_result"
    }
   ],
   "source": [
    "y_test"
   ]
  },
  {
   "cell_type": "markdown",
   "id": "962731c2",
   "metadata": {},
   "source": [
    "## convert numpy arrays to tensors"
   ]
  },
  {
   "cell_type": "code",
   "execution_count": 16,
   "id": "872bc3b3",
   "metadata": {},
   "outputs": [],
   "source": [
    "x_train_tensor = torch.tensor(x_train)\n",
    "x_test_tensor = torch.tensor(x_test)\n",
    "y_train_tensor = torch.tensor(y_train)\n",
    "y_test_tensor = torch.tensor(y_test)"
   ]
  },
  {
   "cell_type": "code",
   "execution_count": 17,
   "id": "65120941",
   "metadata": {},
   "outputs": [
    {
     "name": "stdout",
     "output_type": "stream",
     "text": [
      "torch.Size([455, 30])\n",
      "torch.float64\n",
      "torch.Size([455])\n"
     ]
    }
   ],
   "source": [
    "print(x_train_tensor.shape)\n",
    "print(x_train_tensor.dtype)\n",
    "print(y_train_tensor.shape)"
   ]
  },
  {
   "cell_type": "markdown",
   "id": "a36422e2",
   "metadata": {},
   "source": [
    "## defining model arch"
   ]
  },
  {
   "cell_type": "code",
   "execution_count": 18,
   "id": "06c5f6ec",
   "metadata": {},
   "outputs": [],
   "source": [
    "class SimpleNN:\n",
    "    def __init__(self,x):\n",
    "        self.weights = torch.randn(x.shape[1], 1, requires_grad=True, dtype=torch.float64)\n",
    "        self.bias = torch.zeros(1, requires_grad=True, dtype=torch.float64)\n",
    "    \n",
    "    def forward(self, x):\n",
    "        z = torch.matmul(x, self.weights) + self.bias\n",
    "        y_pred = torch.sigmoid(z)\n",
    "        return y_pred\n",
    "    \n",
    "    def loss(self, y_pred, y): ##Binary Cross-Entropy\n",
    "        \"\"\"This loss function measures how far the predicted probabilities y_pred are from the actual labels y for binary classification (0 or 1).\"\"\"\n",
    "        epsilon = 1e-7\n",
    "        y_pred = torch.clamp(y_pred, epsilon, 1 - epsilon) ## y_pred is clamped to be between epsilon and 1 - epsilon to avoid taking the log of 0 or 1.\n",
    "        \n",
    "        loss = -(y * torch.log(y_pred) + (1 - y) * torch.log(1 - y_pred)).mean()\n",
    "        return loss\n"
   ]
  },
  {
   "cell_type": "code",
   "execution_count": 19,
   "id": "7fe1535d",
   "metadata": {},
   "outputs": [],
   "source": [
    "lr = 0.1\n",
    "epochs = 150"
   ]
  },
  {
   "cell_type": "markdown",
   "id": "520b4668",
   "metadata": {},
   "source": [
    "## training pipeline"
   ]
  },
  {
   "cell_type": "markdown",
   "id": "5b8c8d06",
   "metadata": {},
   "source": [
    "differentiation path\n",
    "\n",
    "\n",
    "        L (Loss)\n",
    "          ^\n",
    "          |\n",
    "     dL/dy_pred\n",
    "          ^\n",
    "          |\n",
    "     y_pred = sigmoid(z)\n",
    "          ^\n",
    "          |\n",
    "     z = w * x + b\n",
    "       ^      ^    ^\n",
    "       |      |    |\n",
    "     dw      dx   db\n"
   ]
  },
  {
   "cell_type": "markdown",
   "id": "3f915998",
   "metadata": {},
   "source": [
    "                dL/dy_pred\n",
    "                     |\n",
    "                     v\n",
    "          d(sigmoid)/dz = dy_pred * (1 - dy_pred)\n",
    "                     |\n",
    "                     v\n",
    "                 dz/dw = x\n",
    "                 dz/db = 1\n",
    "                     |\n",
    "                     v\n",
    "            dL/dw = dL/dz * x\n",
    "            dL/db = dL/dz * 1\n"
   ]
  },
  {
   "cell_type": "markdown",
   "id": "834659fb",
   "metadata": {},
   "source": [
    "dL/dw ​= ​dL/dypred ​⋅ dypred/dz ​​⋅ dz​/dw \n",
    "\n",
    "\n",
    "dL/db ​= ​dL/dypred ​⋅ dypred/dz ​​⋅ dz​/db"
   ]
  },
  {
   "cell_type": "code",
   "execution_count": 20,
   "id": "b6e1b0c8",
   "metadata": {},
   "outputs": [
    {
     "name": "stdout",
     "output_type": "stream",
     "text": [
      "for 0 loss is 1.7698709214842607\n",
      "for 10 loss is 0.672106103592883\n",
      "for 20 loss is 0.6459578073145807\n",
      "for 30 loss is 0.6343616844367279\n",
      "for 40 loss is 0.627640084953213\n",
      "for 50 loss is 0.6234464515055529\n",
      "for 60 loss is 0.6206558540951538\n",
      "for 70 loss is 0.6186973240832058\n",
      "for 80 loss is 0.6172605197692044\n",
      "for 90 loss is 0.6161663507629102\n",
      "for 100 loss is 0.615306197722826\n",
      "for 110 loss is 0.6146114050070746\n",
      "for 120 loss is 0.6140370893059487\n",
      "for 130 loss is 0.6135530909683866\n",
      "for 140 loss is 0.6131386660966041\n"
     ]
    }
   ],
   "source": [
    "model = SimpleNN(x_train_tensor)\n",
    "n_samples = x_train_tensor.shape[0]\n",
    "batch_size = 32\n",
    "\n",
    "for epoch in range(epochs):\n",
    "    for i in range(0, n_samples, batch_size):\n",
    "    # Forward pass\n",
    "        end = i + batch_size\n",
    "        y_pred = model.forward(x_train_tensor[i:end])\n",
    "        loss = model.loss(y_pred, y_train_tensor[i:end])\n",
    "        \n",
    "        # Backward pass\n",
    "        loss.backward()\n",
    "\n",
    "        # Update weights\n",
    "        with torch.no_grad():\n",
    "            model.weights -= lr * model.weights.grad\n",
    "            model.bias -= lr * model.bias.grad\n",
    "\n",
    "        # Zero gradients so that grad is not accumulated\n",
    "        model.weights.grad.zero_()\n",
    "        model.bias.grad.zero_()\n",
    "    if epoch % 10 == 0:\n",
    "        print(f\"for {epoch} loss is {loss.item()}\")"
   ]
  },
  {
   "cell_type": "markdown",
   "id": "8d3a5692",
   "metadata": {},
   "source": [
    "## evaluation metrics"
   ]
  },
  {
   "cell_type": "code",
   "execution_count": 21,
   "id": "6ec9aacb",
   "metadata": {},
   "outputs": [
    {
     "name": "stdout",
     "output_type": "stream",
     "text": [
      "Accuracy: 0.6206524968147278\n"
     ]
    }
   ],
   "source": [
    "with torch.no_grad():\n",
    "    y_pred = model.forward(x_test_tensor)\n",
    "    y_pred = (y_pred > 0.5).float()\n",
    "    accuracy = (y_pred == y_test_tensor).float().mean()\n",
    "    print(f\"Accuracy: {accuracy.item()}\")"
   ]
  },
  {
   "cell_type": "markdown",
   "id": "65ffc1ca",
   "metadata": {},
   "source": [
    "### from scratch (using numpy only)\n",
    "\n",
    "i have x_train and y_train, x_test and y_test from above and use that here"
   ]
  },
  {
   "cell_type": "code",
   "execution_count": null,
   "id": "6b7b524c",
   "metadata": {},
   "outputs": [],
   "source": [
    "class Oneneuron:\n",
    "    def __init__(self,x):\n",
    "        self.weights = np.random.randn(x.shape[1], 1)  ## shape is number of features\n",
    "        self.bias = np.zeros(1)\n",
    "    \n",
    "    def forward_pass(self,x_train):\n",
    "        z = np.dot(x_train, self.weights) + self.bias\n",
    "        y_pred = 1 / (1 + np.exp(-z))\n",
    "        return y_pred\n",
    "    \n",
    "    def loss(self, y_pred, y): ## Binary Cross-Entropy\n",
    "        epsilon = 1e-7\n",
    "        y_pred = np.clip(y_pred, epsilon, 1 - epsilon)\n",
    "        loss = -np.mean(y * np.log(y_pred) + (1 - y) * np.log(1 - y_pred))\n",
    "        return loss\n",
    "    \n",
    "    def backward_pass(self, x_train, y_pred, y):\n",
    "        ## Ensure all arrays are numpy arrays and have proper shape\n",
    "        y = y.reshape(-1, 1)       ## shape (455, 1)\n",
    "        y_pred = y_pred.reshape(-1, 1)\n",
    "\n",
    "        ## Derivative of the loss w.r.t z\n",
    "        dz = y_pred - y  # shape (455, 1)\n",
    "\n",
    "        # Compute gradients\n",
    "        dw = np.dot(x_train.T, dz) / x_train.shape[0]   ## shape (30, 1)\n",
    "        db = np.mean(dz)                                ## scalar\n",
    "\n",
    "        return dw, db\n",
    "\n",
    "    def update_weights(self, dw, db, lr):\n",
    "        self.weights -= lr * dw\n",
    "        self.bias -= lr * db"
   ]
  },
  {
   "cell_type": "code",
   "execution_count": 37,
   "id": "22b623bd",
   "metadata": {},
   "outputs": [
    {
     "name": "stdout",
     "output_type": "stream",
     "text": [
      "for 0 loss is 1.8530100008756383\n",
      "for 100 loss is 1.852294759066303\n",
      "for 200 loss is 1.8515825778479988\n",
      "for 300 loss is 1.8508734530075701\n",
      "for 400 loss is 1.8501673803363192\n",
      "for 500 loss is 1.849464355630022\n",
      "for 600 loss is 1.848764374688896\n",
      "for 700 loss is 1.8480674333173392\n",
      "for 800 loss is 1.8473735273240992\n",
      "for 900 loss is 1.8466826525219904\n",
      "for 1000 loss is 1.8459948047277384\n",
      "for 1100 loss is 1.8453099797619292\n",
      "for 1200 loss is 1.8446281734492618\n",
      "for 1300 loss is 1.8439493816178407\n",
      "for 1400 loss is 1.8432736000994392\n",
      "for 1500 loss is 1.842600824729515\n",
      "for 1600 loss is 1.8419310513467493\n",
      "for 1700 loss is 1.8412642757931705\n",
      "for 1800 loss is 1.8406004939140648\n",
      "for 1900 loss is 1.839939701557678\n"
     ]
    },
    {
     "data": {
      "image/png": "[encoded data removed]",
      "text/plain": [
       "<Figure size 640x480 with 1 Axes>"
      ]
     },
     "metadata": {},
     "output_type": "display_data"
    }
   ],
   "source": [
    "import matplotlib.pyplot as plt\n",
    "\n",
    "model = Oneneuron(x_train)\n",
    "epochs = 2000\n",
    "lr = 0.00001\n",
    "\n",
    "losses = []\n",
    "\n",
    "for epoch in range(epochs):\n",
    "    y_pred = model.forward_pass(x_train)\n",
    "    loss = model.loss(y_pred, y_train)\n",
    "    dw, db = model.backward_pass(x_train, y_pred, y_train)\n",
    "    model.update_weights(dw, db, lr)\n",
    "    losses.append(loss)\n",
    "    if epoch % 100 == 0:\n",
    "        print(f\"for {epoch} loss is {loss}\")\n",
    "\n",
    "plt.plot(losses)\n",
    "plt.xlabel(\"Epoch\")\n",
    "plt.ylabel(\"Loss\")\n",
    "plt.title(\"Training Loss Curve\")\n",
    "plt.show()\n"
   ]
  },
  {
   "cell_type": "code",
   "execution_count": null,
   "id": "f12cead0",
   "metadata": {},
   "outputs": [],
   "source": []
  }
 ],
 "metadata": {
  "kernelspec": {
   "display_name": "llm-env",
   "language": "python",
   "name": "python3"
  },
  "language_info": {
   "codemirror_mode": {
    "name": "ipython",
    "version": 3
   },
   "file_extension": ".py",
   "mimetype": "text/x-python",
   "name": "python",
   "nbconvert_exporter": "python",
   "pygments_lexer": "ipython3",
   "version": "3.13.5"
  }
 },
 "nbformat": 4,
 "nbformat_minor": 5
}
